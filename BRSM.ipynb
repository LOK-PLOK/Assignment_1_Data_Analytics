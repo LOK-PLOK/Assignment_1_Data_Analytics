{
 "cells": [
  {
   "cell_type": "markdown",
   "id": "e3dca46f",
   "metadata": {},
   "source": [
    "# Balance Risk Set Matching\n",
    "Detablan, Paul France M."
   ]
  },
  {
   "cell_type": "markdown",
   "id": "7b4f5273-8d24-464e-83ae-23c6708d8070",
   "metadata": {},
   "source": [
    "# Balanced Risk Set Matching (Li et al., 2001)\n",
    "This research examines the use of cystoscopy and hydrodistention as treatments for interstitial cystitis, a chronic, non-life-threatening condition characterized by persistent symptoms. The study aims to compare treatment outcomes among patients with similar symptom histories but differing timelines of receiving interventions. The journal article emphasizes analyzing how the timing of treatment administration influences patient results, exploring whether earlier or later therapeutic approaches yield distinct effects on symptom management and recovery.\n",
    "\n",
    "Link to article: [Balanced Risk Set Matching: Journal of the American Statistical Association](https://doi.org/10.1198/016214501753208573)"
   ]
  },
  {
   "cell_type": "markdown",
   "id": "2a23e6d9-5cde-4a88-bd89-9754f238d682",
   "metadata": {},
   "source": [
    "# Programming Assignment (Data Analytics)\n",
    "\n",
    "This assignment is a test of your algorithmic thinking. You can use any A.I. tools ot assist you in this coding assignment.\n",
    "\n",
    "Instructions:\n",
    "\n",
    "- This is done by pair, preferably your thesis partner.\n",
    "- Each person should create a Github Repo titled 'Assignment_1_Data_Analytics'.\n",
    "- Read the journal provided.\n",
    "- Develop a Python implementation of the procedures in the journal.\n",
    "- Deadline is before premidterm week."
   ]
  },
  {
   "cell_type": "markdown",
   "id": "49187965-ebc3-420e-966e-265d2ee17d01",
   "metadata": {},
   "source": [
    "## install packages"
   ]
  },
  {
   "cell_type": "code",
   "execution_count": null,
   "id": "c09f14ea-ab7b-4209-a5f7-4a442a1b8461",
   "metadata": {},
   "outputs": [],
   "source": [
    "pip install "
   ]
  },
  {
   "cell_type": "markdown",
   "id": "832b1b6a-b78f-44ce-baa4-1dfba192df3c",
   "metadata": {},
   "source": [
    "## Import required packages"
   ]
  },
  {
   "cell_type": "code",
   "execution_count": 3,
   "id": "a2afc9a7-e8c9-4230-a355-b52ea977b759",
   "metadata": {},
   "outputs": [],
   "source": [
    "# Import numerical and data analysis libraries  \n",
    "import numpy as np  \n",
    "import pandas as pd  \n",
    "\n",
    "# Include distance computation and utilities  \n",
    "from scipy.spatial.distance import cdist  \n",
    "from collections import defaultdict  \n",
    "\n",
    "# Add plotting capabilities  \n",
    "import matplotlib.pyplot as plt  \n"
   ]
  },
  {
   "cell_type": "markdown",
   "id": "4e83450d-a7bb-42be-93e9-271374c0dacd",
   "metadata": {},
   "source": [
    "## Initialization of Global Variables and Seed"
   ]
  },
  {
   "cell_type": "code",
   "execution_count": 9,
   "id": "d82d510b-d500-4005-a3bf-a746dd301a70",
   "metadata": {},
   "outputs": [],
   "source": [
    "import numpy as np\n",
    "\n",
    "# Set the random seed for reproducibility\n",
    "np.random.seed(25)\n",
    "\n",
    "# Define key variables\n",
    "total_patients = 210\n",
    "years_of_evaluation = 4\n",
    "months_of_evaluation = years_of_evaluation * 12\n",
    "MAX_ALLOWED_MATCHES = 100\n",
    "\n",
    "# Titles for data visualization\n",
    "PLOT_TITLES = [\n",
    "    'Initial Assessment',\n",
    "    'During Treatment',\n",
    "    '3 Months Post-Treatment',\n",
    "    '6 Months Post-Treatment',\n",
    "    'Change (3 Months Post-Treatment)',\n",
    "    'Change (6 Months Post-Treatment)'\n",
    "]\n",
    "\n",
    "# Labels for categorizing groups\n",
    "GROUP_LABELS = ['Untreated/Treated Later', 'Treated']\n"
   ]
  },
  {
   "cell_type": "markdown",
   "id": "9a162747-f2ed-4b5a-a29c-52207c679af9",
   "metadata": {},
   "source": [
    "## Initialize patient assessment data at the time of entry"
   ]
  },
  {
   "cell_type": "code",
   "execution_count": 10,
   "id": "3a69bff6-cc64-4345-9601-6d0984b56890",
   "metadata": {},
   "outputs": [
    {
     "data": {
      "text/html": [
       "<div>\n",
       "<style scoped>\n",
       "    .dataframe tbody tr th:only-of-type {\n",
       "        vertical-align: middle;\n",
       "    }\n",
       "\n",
       "    .dataframe tbody tr th {\n",
       "        vertical-align: top;\n",
       "    }\n",
       "\n",
       "    .dataframe thead th {\n",
       "        text-align: right;\n",
       "    }\n",
       "</style>\n",
       "<table border=\"1\" class=\"dataframe\">\n",
       "  <thead>\n",
       "    <tr style=\"text-align: right;\">\n",
       "      <th></th>\n",
       "      <th>patient_id</th>\n",
       "      <th>gender</th>\n",
       "      <th>pain_level</th>\n",
       "      <th>urgency_score</th>\n",
       "      <th>frequency_count</th>\n",
       "    </tr>\n",
       "  </thead>\n",
       "  <tbody>\n",
       "    <tr>\n",
       "      <th>0</th>\n",
       "      <td>0</td>\n",
       "      <td>M</td>\n",
       "      <td>5</td>\n",
       "      <td>4</td>\n",
       "      <td>10</td>\n",
       "    </tr>\n",
       "    <tr>\n",
       "      <th>1</th>\n",
       "      <td>1</td>\n",
       "      <td>M</td>\n",
       "      <td>6</td>\n",
       "      <td>0</td>\n",
       "      <td>18</td>\n",
       "    </tr>\n",
       "    <tr>\n",
       "      <th>2</th>\n",
       "      <td>2</td>\n",
       "      <td>M</td>\n",
       "      <td>9</td>\n",
       "      <td>3</td>\n",
       "      <td>16</td>\n",
       "    </tr>\n",
       "    <tr>\n",
       "      <th>3</th>\n",
       "      <td>3</td>\n",
       "      <td>F</td>\n",
       "      <td>8</td>\n",
       "      <td>9</td>\n",
       "      <td>6</td>\n",
       "    </tr>\n",
       "    <tr>\n",
       "      <th>4</th>\n",
       "      <td>4</td>\n",
       "      <td>F</td>\n",
       "      <td>6</td>\n",
       "      <td>0</td>\n",
       "      <td>19</td>\n",
       "    </tr>\n",
       "  </tbody>\n",
       "</table>\n",
       "</div>"
      ],
      "text/plain": [
       "   patient_id gender  pain_level  urgency_score  frequency_count\n",
       "0           0      M           5              4               10\n",
       "1           1      M           6              0               18\n",
       "2           2      M           9              3               16\n",
       "3           3      F           8              9                6\n",
       "4           4      F           6              0               19"
      ]
     },
     "execution_count": 10,
     "metadata": {},
     "output_type": "execute_result"
    }
   ],
   "source": [
    "# Load baseline assessment data when a patient is registered\n",
    "initial_data = pd.DataFrame({\n",
    "    \"patient_id\": np.arange(total_patients),\n",
    "    \"gender\": np.random.choice(['M', 'F'], total_patients),\n",
    "    \"pain_level\": np.random.randint(0, 10, total_patients),\n",
    "    \"urgency_score\": np.random.randint(0, 10, total_patients),\n",
    "    \"frequency_count\": np.random.randint(0, 20, total_patients)\n",
    "})\n",
    "\n",
    "initial_data.head()"
   ]
  },
  {
   "cell_type": "markdown",
   "id": "00e22031-3bc8-4270-8e40-b94e4efc4468",
   "metadata": {},
   "source": [
    "Patients undergo evaluations approximately every 3 months for a period of up to 4 years. During each assessment, three key metrics are recorded:\n",
    "\n",
    "- Pain Level\n",
    "- Urgency Score\n",
    "- Nocturnal Frequency\n",
    "\n",
    "Both pain level and urgency score are subjective ratings measured on a scale from 0 to 9."
   ]
  },
  {
   "cell_type": "markdown",
   "id": "542a4e80-3306-4363-bad2-3068d879db02",
   "metadata": {},
   "source": [
    "## Conduct evaluations at 3-month intervals"
   ]
  },
  {
   "cell_type": "code",
   "execution_count": 11,
   "id": "2c828102-4a5c-44fd-82cc-850fb05d681c",
   "metadata": {},
   "outputs": [
    {
     "data": {
      "text/html": [
       "<div>\n",
       "<style scoped>\n",
       "    .dataframe tbody tr th:only-of-type {\n",
       "        vertical-align: middle;\n",
       "    }\n",
       "\n",
       "    .dataframe tbody tr th {\n",
       "        vertical-align: top;\n",
       "    }\n",
       "\n",
       "    .dataframe thead th {\n",
       "        text-align: right;\n",
       "    }\n",
       "</style>\n",
       "<table border=\"1\" class=\"dataframe\">\n",
       "  <thead>\n",
       "    <tr style=\"text-align: right;\">\n",
       "      <th></th>\n",
       "      <th>pain_level</th>\n",
       "      <th>urgency_score</th>\n",
       "      <th>frequency_count</th>\n",
       "    </tr>\n",
       "    <tr>\n",
       "      <th>patient_id</th>\n",
       "      <th></th>\n",
       "      <th></th>\n",
       "      <th></th>\n",
       "    </tr>\n",
       "  </thead>\n",
       "  <tbody>\n",
       "    <tr>\n",
       "      <th>0</th>\n",
       "      <td>5.1250</td>\n",
       "      <td>4.3750</td>\n",
       "      <td>11.5625</td>\n",
       "    </tr>\n",
       "    <tr>\n",
       "      <th>1</th>\n",
       "      <td>4.2500</td>\n",
       "      <td>3.1875</td>\n",
       "      <td>9.0000</td>\n",
       "    </tr>\n",
       "    <tr>\n",
       "      <th>2</th>\n",
       "      <td>5.3750</td>\n",
       "      <td>4.5000</td>\n",
       "      <td>11.6250</td>\n",
       "    </tr>\n",
       "    <tr>\n",
       "      <th>3</th>\n",
       "      <td>4.6250</td>\n",
       "      <td>3.9375</td>\n",
       "      <td>9.0000</td>\n",
       "    </tr>\n",
       "    <tr>\n",
       "      <th>4</th>\n",
       "      <td>3.9375</td>\n",
       "      <td>5.0000</td>\n",
       "      <td>11.7500</td>\n",
       "    </tr>\n",
       "  </tbody>\n",
       "</table>\n",
       "</div>"
      ],
      "text/plain": [
       "            pain_level  urgency_score  frequency_count\n",
       "patient_id                                            \n",
       "0               5.1250         4.3750          11.5625\n",
       "1               4.2500         3.1875           9.0000\n",
       "2               5.3750         4.5000          11.6250\n",
       "3               4.6250         3.9375           9.0000\n",
       "4               3.9375         5.0000          11.7500"
      ]
     },
     "execution_count": 11,
     "metadata": {},
     "output_type": "execute_result"
    }
   ],
   "source": [
    "# Initialize an empty DataFrame to store evaluation results\n",
    "patient_evaluations = pd.DataFrame()\n",
    "\n",
    "for patient in range(total_patients):\n",
    "    selected_treatment_time = np.random.choice(list(np.arange(3, months_of_evaluation + 1, 3)) + [None])\n",
    "\n",
    "    # Conduct evaluations every 3 months for up to 4 years\n",
    "    for month in range(3, months_of_evaluation + 1, 3):\n",
    "        pain_level = np.random.randint(0, 10, 1)\n",
    "        urgency_score = np.random.randint(0, 10, 1)\n",
    "        frequency_count = np.random.randint(0, 20, 1)\n",
    "        time_elapsed = month\n",
    "\n",
    "        if selected_treatment_time is None or month < selected_treatment_time:\n",
    "            treatment_start = None\n",
    "            treatment_status = 0\n",
    "        else:\n",
    "            treatment_start = selected_treatment_time\n",
    "            treatment_status = 1\n",
    "\n",
    "        # Append the evaluation data for the patient\n",
    "        patient_evaluations = pd.concat([patient_evaluations, pd.DataFrame({\n",
    "            'patient_id': patient,\n",
    "            'pain_level': pain_level,\n",
    "            'urgency_score': urgency_score,\n",
    "            'frequency_count': frequency_count,\n",
    "            'time_elapsed': time_elapsed,\n",
    "            'treatment_start': treatment_start,\n",
    "            'treatment_status': treatment_status\n",
    "        })])\n",
    "\n",
    "# Compute the average evaluation scores for each patient\n",
    "patient_evaluations.groupby('patient_id')[['pain_level', 'urgency_score', 'frequency_count']].mean().head()"
   ]
  },
  {
   "cell_type": "code",
   "execution_count": null,
   "id": "a2787d32-dfce-415d-aeb3-77df66333824",
   "metadata": {},
   "outputs": [],
   "source": []
  }
 ],
 "metadata": {
  "kernelspec": {
   "display_name": "Python 3 (ipykernel)",
   "language": "python",
   "name": "python3"
  },
  "language_info": {
   "codemirror_mode": {
    "name": "ipython",
    "version": 3
   },
   "file_extension": ".py",
   "mimetype": "text/x-python",
   "name": "python",
   "nbconvert_exporter": "python",
   "pygments_lexer": "ipython3",
   "version": "3.13.1"
  }
 },
 "nbformat": 4,
 "nbformat_minor": 5
}
