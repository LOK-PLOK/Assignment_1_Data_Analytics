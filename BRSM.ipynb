{
 "cells": [
  {
   "cell_type": "markdown",
   "id": "e3dca46f",
   "metadata": {},
   "source": [
    "# Balance Risk Set Matching\n",
    "Detablan, Paul France M."
   ]
  },
  {
   "cell_type": "markdown",
   "id": "7b4f5273-8d24-464e-83ae-23c6708d8070",
   "metadata": {},
   "source": [
    "# Balanced Risk Set Matching (Li et al., 2001)\n",
    "This research examines the use of cystoscopy and hydrodistention as treatments for interstitial cystitis, a chronic, non-life-threatening condition characterized by persistent symptoms. The study aims to compare treatment outcomes among patients with similar symptom histories but differing timelines of receiving interventions. The journal article emphasizes analyzing how the timing of treatment administration influences patient results, exploring whether earlier or later therapeutic approaches yield distinct effects on symptom management and recovery.\n",
    "\n",
    "Link to article: [Balanced Risk Set Matching: Journal of the American Statistical Association](https://doi.org/10.1198/016214501753208573)"
   ]
  },
  {
   "cell_type": "markdown",
   "id": "2a23e6d9-5cde-4a88-bd89-9754f238d682",
   "metadata": {},
   "source": [
    "# Programming Assignment (Data Analytics)\n",
    "\n",
    "This assignment is a test of your algorithmic thinking. You can use any A.I. tools ot assist you in this coding assignment.\n",
    "\n",
    "Instructions:\n",
    "\n",
    "- This is done by pair, preferably your thesis partner.\n",
    "- Each person should create a Github Repo titled 'Assignment_1_Data_Analytics'.\n",
    "- Read the journal provided.\n",
    "- Develop a Python implementation of the procedures in the journal.\n",
    "- Deadline is before premidterm week."
   ]
  },
  {
   "cell_type": "markdown",
   "id": "49187965-ebc3-420e-966e-265d2ee17d01",
   "metadata": {},
   "source": [
    "## install packages"
   ]
  },
  {
   "cell_type": "code",
   "execution_count": null,
   "id": "c09f14ea-ab7b-4209-a5f7-4a442a1b8461",
   "metadata": {},
   "outputs": [],
   "source": [
    "pip install "
   ]
  },
  {
   "cell_type": "markdown",
   "id": "832b1b6a-b78f-44ce-baa4-1dfba192df3c",
   "metadata": {},
   "source": [
    "## Import required packages"
   ]
  },
  {
   "cell_type": "code",
   "execution_count": 2,
   "id": "a2afc9a7-e8c9-4230-a355-b52ea977b759",
   "metadata": {},
   "outputs": [],
   "source": [
    "# Import Required Libraries\n",
    "\n",
    "# Import numerical and data analysis libraries\n",
    "import numpy as np\n",
    "import pandas as pd\n",
    "\n",
    "# Include distance computation and utilities\n",
    "from scipy.spatial.distance import cdist\n",
    "from collections import defaultdict\n",
    "\n",
    "# Add plotting capabilities\n",
    "import matplotlib.pyplot as plt"
   ]
  },
  {
   "cell_type": "markdown",
   "id": "4e83450d-a7bb-42be-93e9-271374c0dacd",
   "metadata": {},
   "source": [
    "## Initialization of Global Variables and Seed"
   ]
  },
  {
   "cell_type": "code",
   "execution_count": 9,
   "id": "d82d510b-d500-4005-a3bf-a746dd301a70",
   "metadata": {},
   "outputs": [],
   "source": [
    "# Initialize Global Variables & Settings\n",
    "\n",
    "# Set the random seed for reproducibility\n",
    "np.random.seed(30)\n",
    "\n",
    "# Define the number of patients and evaluation periods\n",
    "number_of_patients = 210\n",
    "evaluation_years = 4\n",
    "evaluation_months = evaluation_years * 12\n",
    "MAX_MATCHES = 100\n",
    "\n",
    "# Titles for data visualization\n",
    "BOX_TITLES = [\n",
    "    'Baseline',\n",
    "    'At Treatment',\n",
    "    '3 Months after Treatment',\n",
    "    '6 Months after Treatment',\n",
    "    'Difference (3 mos posttreatment)',\n",
    "    'Difference (6 mos posttreatment)'\n",
    "]\n",
    "\n",
    "# Labels for categorizing groups\n",
    "BOX_LABELS = ['Never/Later Treated', 'Treated']"
   ]
  },
  {
   "cell_type": "markdown",
   "id": "9a162747-f2ed-4b5a-a29c-52207c679af9",
   "metadata": {},
   "source": [
    "## Initialize patient assessment data at the time of entry"
   ]
  },
  {
   "cell_type": "code",
   "execution_count": 10,
   "id": "3a69bff6-cc64-4345-9601-6d0984b56890",
   "metadata": {},
   "outputs": [
    {
     "data": {
      "text/html": [
       "<div>\n",
       "<style scoped>\n",
       "    .dataframe tbody tr th:only-of-type {\n",
       "        vertical-align: middle;\n",
       "    }\n",
       "\n",
       "    .dataframe tbody tr th {\n",
       "        vertical-align: top;\n",
       "    }\n",
       "\n",
       "    .dataframe thead th {\n",
       "        text-align: right;\n",
       "    }\n",
       "</style>\n",
       "<table border=\"1\" class=\"dataframe\">\n",
       "  <thead>\n",
       "    <tr style=\"text-align: right;\">\n",
       "      <th></th>\n",
       "      <th>patient_id</th>\n",
       "      <th>gender</th>\n",
       "      <th>pain</th>\n",
       "      <th>urgency</th>\n",
       "      <th>frequency</th>\n",
       "    </tr>\n",
       "  </thead>\n",
       "  <tbody>\n",
       "    <tr>\n",
       "      <th>0</th>\n",
       "      <td>0</td>\n",
       "      <td>F</td>\n",
       "      <td>1</td>\n",
       "      <td>7</td>\n",
       "      <td>1</td>\n",
       "    </tr>\n",
       "    <tr>\n",
       "      <th>1</th>\n",
       "      <td>1</td>\n",
       "      <td>F</td>\n",
       "      <td>3</td>\n",
       "      <td>1</td>\n",
       "      <td>4</td>\n",
       "    </tr>\n",
       "    <tr>\n",
       "      <th>2</th>\n",
       "      <td>2</td>\n",
       "      <td>F</td>\n",
       "      <td>3</td>\n",
       "      <td>2</td>\n",
       "      <td>16</td>\n",
       "    </tr>\n",
       "    <tr>\n",
       "      <th>3</th>\n",
       "      <td>3</td>\n",
       "      <td>F</td>\n",
       "      <td>3</td>\n",
       "      <td>7</td>\n",
       "      <td>3</td>\n",
       "    </tr>\n",
       "    <tr>\n",
       "      <th>4</th>\n",
       "      <td>4</td>\n",
       "      <td>M</td>\n",
       "      <td>6</td>\n",
       "      <td>6</td>\n",
       "      <td>11</td>\n",
       "    </tr>\n",
       "  </tbody>\n",
       "</table>\n",
       "</div>"
      ],
      "text/plain": [
       "   patient_id gender  pain  urgency  frequency\n",
       "0           0      F     1        7          1\n",
       "1           1      F     3        1          4\n",
       "2           2      F     3        2         16\n",
       "3           3      F     3        7          3\n",
       "4           4      M     6        6         11"
      ]
     },
     "execution_count": 10,
     "metadata": {},
     "output_type": "execute_result"
    }
   ],
   "source": [
    "# Generate Sample Patient Data\n",
    "\n",
    "# Create synthetic baseline data for patients\n",
    "baseline_data = pd.DataFrame({\n",
    "    \"patient_id\": np.arange(0, number_of_patients),\n",
    "    \"gender\": np.random.choice(['M', 'F'], number_of_patients),\n",
    "    \"pain\": np.random.randint(0, 10, number_of_patients),\n",
    "    \"urgency\": np.random.randint(0, 10, number_of_patients),\n",
    "    \"frequency\": np.random.randint(0, 20, number_of_patients)\n",
    "})\n",
    "\n",
    "# Display the first few rows of the baseline data\n",
    "baseline_data.head()"
   ]
  },
  {
   "cell_type": "markdown",
   "id": "00e22031-3bc8-4270-8e40-b94e4efc4468",
   "metadata": {},
   "source": [
    "Patients undergo evaluations approximately every 3 months for a period of up to 4 years. During each assessment, three key metrics are recorded:\n",
    "\n",
    "- Pain Level\n",
    "- Urgency Score\n",
    "- Nocturnal Frequency\n",
    "\n",
    "Both pain level and urgency score are subjective ratings measured on a scale from 0 to 9."
   ]
  },
  {
   "cell_type": "markdown",
   "id": "542a4e80-3306-4363-bad2-3068d879db02",
   "metadata": {},
   "source": [
    "## Conduct evaluations at 3-month intervals"
   ]
  },
  {
   "cell_type": "code",
   "execution_count": 11,
   "id": "2c828102-4a5c-44fd-82cc-850fb05d681c",
   "metadata": {},
   "outputs": [
    {
     "data": {
      "text/html": [
       "<div>\n",
       "<style scoped>\n",
       "    .dataframe tbody tr th:only-of-type {\n",
       "        vertical-align: middle;\n",
       "    }\n",
       "\n",
       "    .dataframe tbody tr th {\n",
       "        vertical-align: top;\n",
       "    }\n",
       "\n",
       "    .dataframe thead th {\n",
       "        text-align: right;\n",
       "    }\n",
       "</style>\n",
       "<table border=\"1\" class=\"dataframe\">\n",
       "  <thead>\n",
       "    <tr style=\"text-align: right;\">\n",
       "      <th></th>\n",
       "      <th>pain</th>\n",
       "      <th>urgency</th>\n",
       "      <th>frequency</th>\n",
       "    </tr>\n",
       "    <tr>\n",
       "      <th>patient_id</th>\n",
       "      <th></th>\n",
       "      <th></th>\n",
       "      <th></th>\n",
       "    </tr>\n",
       "  </thead>\n",
       "  <tbody>\n",
       "    <tr>\n",
       "      <th>0</th>\n",
       "      <td>4.5625</td>\n",
       "      <td>5.1250</td>\n",
       "      <td>7.6875</td>\n",
       "    </tr>\n",
       "    <tr>\n",
       "      <th>1</th>\n",
       "      <td>4.5000</td>\n",
       "      <td>4.8125</td>\n",
       "      <td>8.3125</td>\n",
       "    </tr>\n",
       "    <tr>\n",
       "      <th>2</th>\n",
       "      <td>4.8125</td>\n",
       "      <td>5.6875</td>\n",
       "      <td>9.4375</td>\n",
       "    </tr>\n",
       "    <tr>\n",
       "      <th>3</th>\n",
       "      <td>5.4375</td>\n",
       "      <td>3.4375</td>\n",
       "      <td>10.3750</td>\n",
       "    </tr>\n",
       "    <tr>\n",
       "      <th>4</th>\n",
       "      <td>4.6875</td>\n",
       "      <td>4.0000</td>\n",
       "      <td>9.2500</td>\n",
       "    </tr>\n",
       "  </tbody>\n",
       "</table>\n",
       "</div>"
      ],
      "text/plain": [
       "              pain  urgency  frequency\n",
       "patient_id                            \n",
       "0           4.5625   5.1250     7.6875\n",
       "1           4.5000   4.8125     8.3125\n",
       "2           4.8125   5.6875     9.4375\n",
       "3           5.4375   3.4375    10.3750\n",
       "4           4.6875   4.0000     9.2500"
      ]
     },
     "execution_count": 11,
     "metadata": {},
     "output_type": "execute_result"
    }
   ],
   "source": [
    "# Create synthetic evaluation data for patients at 3-month intervals\n",
    "evaluation_data = pd.DataFrame()\n",
    "\n",
    "for patient_id in range(number_of_patients):\n",
    "    chosen_treatment_time = np.random.choice(list(np.arange(3, evaluation_months + 1, 3)) + [None])\n",
    "    \n",
    "    # Evaluate every 3 months up to 4 years\n",
    "    for month in range(3, evaluation_months + 1, 3):\n",
    "        pain = np.random.randint(0, 10, 1)\n",
    "        urgency = np.random.randint(0, 10, 1)\n",
    "        frequency = np.random.randint(0, 20, 1)\n",
    "        time_since_entry = month\n",
    "\n",
    "        if chosen_treatment_time is None or month < chosen_treatment_time:\n",
    "            time_treated = None\n",
    "            treated = 0\n",
    "        else:\n",
    "            time_treated = chosen_treatment_time\n",
    "            treated = 1\n",
    "\n",
    "        evaluation_data = pd.concat([evaluation_data, pd.DataFrame({\n",
    "            'patient_id': patient_id, \n",
    "            'pain': pain, \n",
    "            'urgency': urgency, \n",
    "            'frequency': frequency, \n",
    "            'time_since_entry': time_since_entry, \n",
    "            'time_treated': time_treated, \n",
    "            'treated': treated\n",
    "        })])\n",
    "\n",
    "# Display the first few rows of the evaluation data\n",
    "evaluation_data.groupby('patient_id')[['pain', 'urgency', 'frequency']].mean().head()"
   ]
  },
  {
   "cell_type": "markdown",
   "id": "b19d3be8-4206-43d0-85fa-52bed7f6e709",
   "metadata": {},
   "source": [
    "## Initialize risk sets"
   ]
  },
  {
   "cell_type": "code",
   "execution_count": 12,
   "id": "eb023423-2e8d-46c5-a0d9-ced5ff9a4280",
   "metadata": {},
   "outputs": [
    {
     "data": {
      "text/plain": [
       "dict_keys([27, 18, 33, 21, 48, 3, 39, 42, 30, 36, 45, 6, 12, 24, 9, 15])"
      ]
     },
     "execution_count": 12,
     "metadata": {},
     "output_type": "execute_result"
    }
   ],
   "source": [
    "# Create Risk Sets\n",
    "\n",
    "# Initialize an empty dictionary to store risk sets\n",
    "risk_sets = {}\n",
    "\n",
    "# Loop through unique treatment times, excluding missing values\n",
    "for treatment_time in evaluation_data['time_treated'].dropna().unique():\n",
    "    # Identify patients who started treatment at the current time point\n",
    "    treated_patients = evaluation_data[\n",
    "        (evaluation_data['time_since_entry'] == treatment_time) & \n",
    "        (evaluation_data['time_treated'] == treatment_time)\n",
    "    ]\n",
    "    \n",
    "    # Identify patients who remained untreated at the same time point\n",
    "    untreated_patients = evaluation_data[\n",
    "        (evaluation_data['time_since_entry'] == treatment_time) & \n",
    "        (evaluation_data['treated'] == 0)\n",
    "    ]\n",
    "\n",
    "    # Store the treated and untreated groups in the dictionary\n",
    "    risk_sets[treatment_time] = (treated_patients, untreated_patients)\n",
    "\n",
    "# Display the available time points in the risk sets\n",
    "risk_sets.keys()"
   ]
  },
  {
   "cell_type": "markdown",
   "id": "eedf39c0-3079-4072-810e-9f71b43179c0",
   "metadata": {},
   "source": [
    "## Binary variable function "
   ]
  },
  {
   "cell_type": "code",
   "execution_count": 21,
   "id": "ffabb4b1-936f-4594-86a4-170da4c255ef",
   "metadata": {},
   "outputs": [],
   "source": [
    "# Binary Variable Functions\n",
    "\n",
    "def create_binary_variables(df, variables):\n",
    "    binary_vars = defaultdict(list)\n",
    "    for var in variables:\n",
    "        # Compute one-third and two-thirds threshold\n",
    "        lower_threshold = np.percentile(df[var], 33)\n",
    "        upper_threshold = np.percentile(df[var], 67)\n",
    "\n",
    "        # Create binary variables for lower, middle, and upper groups\n",
    "        binary_lower = (df[var] <= lower_threshold).astype(int)\n",
    "        binary_middle = ((df[var] > lower_threshold) & (df[var] <= upper_threshold)).astype(int)\n",
    "        binary_upper = (df[var] > upper_threshold).astype(int)\n",
    "        \n",
    "        # Append to binary_vars \"x_lower\" is already implied if both variables are 0\n",
    "        binary_vars[f\"{var}_middle\"].extend(binary_middle)\n",
    "        binary_vars[f\"{var}_upper\"].extend(binary_upper)\n",
    "\n",
    "    # Generate binary DataFrame for each symptom variable\n",
    "    binary_df = pd.DataFrame(binary_vars)\n",
    "    return binary_df"
   ]
  },
  {
   "cell_type": "markdown",
   "id": "7f7d0590-cb57-4590-8218-49480a99a2bc",
   "metadata": {},
   "source": [
    "## Risk set updated"
   ]
  },
  {
   "cell_type": "code",
   "execution_count": 14,
   "id": "b7dab843-3b5f-4e65-b112-75ea79ba13f3",
   "metadata": {},
   "outputs": [
    {
     "data": {
      "text/plain": [
       "Index(['patient_id', 'pain_current', 'urgency_current', 'frequency_current',\n",
       "       'time_since_entry', 'time_treated', 'treated', 'gender',\n",
       "       'pain_baseline', 'urgency_baseline', 'frequency_baseline',\n",
       "       'pain_current_middle', 'pain_current_upper', 'urgency_current_middle',\n",
       "       'urgency_current_upper', 'frequency_current_middle',\n",
       "       'frequency_current_upper', 'pain_baseline_middle',\n",
       "       'pain_baseline_upper', 'urgency_baseline_middle',\n",
       "       'urgency_baseline_upper', 'frequency_baseline_middle',\n",
       "       'frequency_baseline_upper'],\n",
       "      dtype='object')"
      ]
     },
     "execution_count": 14,
     "metadata": {},
     "output_type": "execute_result"
    }
   ],
   "source": [
    "# Update Risk Sets with Binary Variables\n",
    "\n",
    "# Define the variables to be used for creating binary indicators\n",
    "variables = [\n",
    "    'pain_current',\n",
    "    'urgency_current',\n",
    "    'frequency_current',\n",
    "    'pain_baseline',\n",
    "    'urgency_baseline',\n",
    "    'frequency_baseline'\n",
    "]\n",
    "\n",
    "# Initialize a new dictionary to store updated risk sets\n",
    "updated_risk_sets = {}\n",
    "\n",
    "# Loop through each risk set and update with binary variables\n",
    "for key, (treated, untreated) in risk_sets.items():\n",
    "    # Merge treated patients with baseline data\n",
    "    treated_patients = treated.merge(baseline_data, on='patient_id', suffixes=['_current', '_baseline'])\n",
    "    \n",
    "    # Generate binary variables for treated patients\n",
    "    binary_treated = create_binary_variables(treated_patients, variables)\n",
    "    treated_patients = pd.concat([treated_patients, binary_treated], axis=1)\n",
    "    \n",
    "    # Merge untreated patients with baseline data\n",
    "    untreated_patients = untreated.merge(baseline_data, on='patient_id', suffixes=['_current', '_baseline'])\n",
    "    \n",
    "    # Generate binary variables for untreated patients\n",
    "    binary_untreated = create_binary_variables(untreated_patients, variables)\n",
    "    untreated_patients = pd.concat([untreated_patients, binary_untreated], axis=1)\n",
    "    \n",
    "    # Store the updated treated and untreated groups in the new dictionary\n",
    "    updated_risk_sets[key] = (treated_patients, untreated_patients)\n",
    "\n",
    "# Display the columns of the first updated treated group to verify the changes\n",
    "list(updated_risk_sets.values())[0][0].columns"
   ]
  },
  {
   "cell_type": "markdown",
   "id": "035f123d",
   "metadata": {},
   "source": [
    "## Matching Functions\n",
    "\n",
    "Implementing matching algorithm using minimum cost flow and balanced pair approaches"
   ]
  },
  {
   "cell_type": "markdown",
   "id": "c2cda84c",
   "metadata": {},
   "source": [
    "### Computing for the different distance between the treated and untreated using Mahalanobis"
   ]
  },
  {
   "cell_type": "code",
   "execution_count": 16,
   "id": "0f4c0bd2",
   "metadata": {},
   "outputs": [],
   "source": [
    "# Compute Mahalanobis Distance\n",
    "def compute_mahalanobis_distance(treated, untreated, covariates):\n",
    "    treated_matrix = treated[covariates].to_numpy()\n",
    "    untreated_matrix = untreated[covariates].to_numpy()\n",
    "    \n",
    "    return cdist(treated_matrix, untreated_matrix, metric='mahalanobis')\n",
    "\n",
    "# Store distances and matches as well as average distance\n",
    "distance_dict = defaultdict(list)\n",
    "\n",
    "for key, (treated, untreated) in updated_risk_sets.items():\n",
    "    distance_matrix = compute_mahalanobis_distance(treated, untreated, variables)\n",
    "    \n",
    "    for i, row in enumerate(distance_matrix):\n",
    "        for j, distance in enumerate(row):\n",
    "            distance_dict[distance].append((int(treated['patient_id'].iloc[i]), int(untreated['patient_id'].iloc[j])))\n",
    "\n",
    "average_distance = sum(distance_dict.keys()) / len(distance_dict.keys())\n"
   ]
  },
  {
   "cell_type": "code",
   "execution_count": 17,
   "id": "1aa6afce",
   "metadata": {},
   "outputs": [],
   "source": [
    "# Create matches from Minimum Cost Flow in a Network (top 100)\n",
    "mcf_matches = []  # Minimum Cost Flow matches\n",
    "count = 0\n",
    "\n",
    "for keys in sorted(distance_dict.keys()):\n",
    "    for match in distance_dict[keys]:\n",
    "        if count >= MAX_MATCHES:\n",
    "            break\n",
    "            \n",
    "        mcf_matches.append(match)\n",
    "        count += 1\n",
    "\n",
    "# Compute sum of K binary variables\n",
    "def find_sum_bin(series, variables):\n",
    "    total = 0\n",
    "\n",
    "    # This way lower = 0, middle = 1, upper = 2\n",
    "    for i, var in enumerate(variables):\n",
    "        total += (i + 1) * series.loc[var]\n",
    "\n",
    "    return total"
   ]
  },
  {
   "cell_type": "code",
   "execution_count": 18,
   "id": "2cb0dd59",
   "metadata": {},
   "outputs": [],
   "source": [
    "# Balanced Pair Matching\n",
    "bpm_matches = []\n",
    "patient_set = set()\n",
    "count = 0\n",
    "\n",
    "binary_vars = [\n",
    "    f\"{x}_middle\" for x in variables\n",
    "] + [\n",
    "    f\"{x}_upper\" for x in variables\n",
    "]\n",
    "\n",
    "for (treated, untreated) in updated_risk_sets.values():\n",
    "    for i in range(treated.shape[0]):\n",
    "        for j in range(untreated.shape[0]):\n",
    "            # If balanced\n",
    "            if count < MAX_MATCHES and find_sum_bin(treated.iloc[i], binary_vars) == find_sum_bin(untreated.iloc[j], binary_vars):\n",
    "                treated_id = int(treated['patient_id'].iloc[i])\n",
    "                untreated_id = int(untreated['patient_id'].iloc[j])\n",
    "\n",
    "                if treated_id not in patient_set and untreated_id not in patient_set: \n",
    "                    bpm_matches.append((treated_id, untreated_id))\n",
    "                    \n",
    "                    patient_set.add(treated_id)\n",
    "                    patient_set.add(untreated_id)\n",
    "                    count += 1\n"
   ]
  },
  {
   "cell_type": "markdown",
   "id": "54f58ed7",
   "metadata": {},
   "source": [
    "## Grouping of Data Frames(basing from the matches)"
   ]
  },
  {
   "cell_type": "code",
   "execution_count": 19,
   "id": "22e5d88d",
   "metadata": {},
   "outputs": [],
   "source": [
    "# Group DataFrames based on matches\n",
    "def find_dataframes(match):\n",
    "    x, y = match\n",
    "    features = ['pain', 'urgency', 'frequency']\n",
    "\n",
    "    # Getting baseline data\n",
    "    baseline_match_x = baseline_data[baseline_data['patient_id'] == x][features]\n",
    "    baseline_match_y = baseline_data[baseline_data['patient_id'] == y][features]\n",
    "\n",
    "    features.append('treated')\n",
    "    \n",
    "    # Getting on treatment data\n",
    "    treatment_match_x = evaluation_data[(evaluation_data['patient_id'] == x) \n",
    "        & (evaluation_data['time_treated'] == evaluation_data['time_since_entry'])][features + ['time_since_entry']]\n",
    "\n",
    "    time_since_entry = treatment_match_x['time_since_entry'].iloc[0] if not treatment_match_x['time_since_entry'].empty else -1\n",
    "    \n",
    "    if time_since_entry == -1:\n",
    "        return ()\n",
    "    else:\n",
    "        treatment_match_x = treatment_match_x.drop('time_since_entry', axis=1)\n",
    "\n",
    "    treatment_match_y = evaluation_data[(evaluation_data['patient_id'] == y) \n",
    "        & (evaluation_data['time_since_entry'] == time_since_entry)][features]\n",
    "\n",
    "    # Getting 3 months after data\n",
    "    time_since_entry += 3\n",
    "    \n",
    "    _3_months_match_x = evaluation_data[(evaluation_data['patient_id'] == x) \n",
    "        & (evaluation_data['time_since_entry'] == time_since_entry)][features]\n",
    "    _3_months_match_y = evaluation_data[(evaluation_data['patient_id'] == y) \n",
    "        & (evaluation_data['time_since_entry'] == time_since_entry)][features]\n",
    "\n",
    "    # Getting 6 months after data\n",
    "    time_since_entry += 3\n",
    "\n",
    "    _6_months_match_x = evaluation_data[(evaluation_data['patient_id'] == x) \n",
    "        & (evaluation_data['time_since_entry'] == time_since_entry)][features]\n",
    "    _6_months_match_y = evaluation_data[(evaluation_data['patient_id'] == y) \n",
    "        & (evaluation_data['time_since_entry'] == time_since_entry)][features]\n",
    "\n",
    "    return (\n",
    "        baseline_match_x, \n",
    "        baseline_match_y,\n",
    "        treatment_match_x,\n",
    "        treatment_match_y,\n",
    "        _3_months_match_x,\n",
    "        _3_months_match_y,\n",
    "        _6_months_match_x,\n",
    "        _6_months_match_y\n",
    "    )"
   ]
  },
  {
   "cell_type": "code",
   "execution_count": 20,
   "id": "4b848f98",
   "metadata": {},
   "outputs": [],
   "source": [
    "# Initializing DataFrames\n",
    "dataframes = [pd.DataFrame() for _ in range(12)]\n",
    "\n",
    "treatment_index = 2\n",
    "month_index = 4\n",
    "\n",
    "for match in bpm_matches:\n",
    "    data = find_dataframes(match)\n",
    "\n",
    "    if len(data) == 0:\n",
    "        continue\n",
    "\n",
    "    for i in range(len(dataframes) - 4):  # minus 4 to remove last 2 box plots\n",
    "        dataframes[i] = pd.concat([dataframes[i], data[i]])\n",
    "\n",
    "    for i in range(4):\n",
    "        index = len(dataframes) - 4 + i\n",
    "        dataframes[index] = pd.concat([dataframes[index], data[month_index + i] - data[treatment_index + (i // 2)]])\n",
    "\n",
    "for index in range(len(dataframes)):\n",
    "    dataframes[index] = dataframes[index].dropna()"
   ]
  }
 ],
 "metadata": {
  "kernelspec": {
   "display_name": "Python 3",
   "language": "python",
   "name": "python3"
  },
  "language_info": {
   "codemirror_mode": {
    "name": "ipython",
    "version": 3
   },
   "file_extension": ".py",
   "mimetype": "text/x-python",
   "name": "python",
   "nbconvert_exporter": "python",
   "pygments_lexer": "ipython3",
   "version": "3.13.1"
  }
 },
 "nbformat": 4,
 "nbformat_minor": 5
}
